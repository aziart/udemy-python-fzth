{
 "cells": [
  {
   "cell_type": "code",
   "execution_count": 1,
   "id": "b43681cc",
   "metadata": {},
   "outputs": [],
   "source": [
    "lst = [1,2,3,4,4,3,2,3,1,4,6,4,7,7,5,4,3]"
   ]
  },
  {
   "cell_type": "code",
   "execution_count": 2,
   "id": "e01fd3fd",
   "metadata": {},
   "outputs": [
    {
     "name": "stdout",
     "output_type": "stream",
     "text": [
      "List 2 has 4 \"3\" items\n",
      "[3, 3, 3, 3]\n"
     ]
    }
   ],
   "source": [
    "lst_2 = []\n",
    "for i in range(len(lst)):\n",
    "    a = lst.pop()\n",
    "    if a == 3:\n",
    "        lst_2.append(a)\n",
    "    else:\n",
    "        continue\n",
    "print(\"List 2 has {c} \\\"3\\\" items\".format(c = len(lst_2)))\n",
    "print(lst_2)"
   ]
  },
  {
   "cell_type": "code",
   "execution_count": 2,
   "id": "89bae9de",
   "metadata": {},
   "outputs": [],
   "source": [
    "d = {'k1': ['a','b','c']}\n",
    "d['k1'] = d['k1'][2].upper()"
   ]
  },
  {
   "cell_type": "code",
   "execution_count": 3,
   "id": "a5ecdf66",
   "metadata": {},
   "outputs": [
    {
     "data": {
      "text/plain": [
       "{'k1': 'C'}"
      ]
     },
     "execution_count": 3,
     "metadata": {},
     "output_type": "execute_result"
    }
   ],
   "source": [
    "d"
   ]
  },
  {
   "cell_type": "code",
   "execution_count": null,
   "id": "f395b07d",
   "metadata": {},
   "outputs": [],
   "source": []
  }
 ],
 "metadata": {
  "kernelspec": {
   "display_name": "Python 3",
   "language": "python",
   "name": "python3"
  },
  "language_info": {
   "codemirror_mode": {
    "name": "ipython",
    "version": 3
   },
   "file_extension": ".py",
   "mimetype": "text/x-python",
   "name": "python",
   "nbconvert_exporter": "python",
   "pygments_lexer": "ipython3",
   "version": "3.8.10"
  }
 },
 "nbformat": 4,
 "nbformat_minor": 5
}
