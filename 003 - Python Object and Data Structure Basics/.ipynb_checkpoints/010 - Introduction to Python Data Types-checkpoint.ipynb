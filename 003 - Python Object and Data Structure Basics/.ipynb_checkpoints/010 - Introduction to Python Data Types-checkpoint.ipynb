{
 "cells": [
  {
   "cell_type": "markdown",
   "metadata": {},
   "source": [
    "# Introduction to Python Data Types"
   ]
  },
  {
   "cell_type": "markdown",
   "metadata": {},
   "source": [
    "#### Integers"
   ]
  },
  {
   "cell_type": "markdown",
   "metadata": {},
   "source": [
    "__Name:__ Integers <br>\n",
    "__Type:__ int <br>\n",
    "__Description:__ Whole numbers <br>\n",
    "__Examples:__ 3, 100, 70"
   ]
  },
  {
   "cell_type": "markdown",
   "metadata": {},
   "source": [
    "#### Floating point number"
   ]
  },
  {
   "cell_type": "markdown",
   "metadata": {},
   "source": [
    "__Name:__ Floating point <br>\n",
    "__Type:__ float <br>\n",
    "__Description:__ Numbers with a decimal point <br>\n",
    "__Examples:__ 3.4, 100.0, 63.22"
   ]
  },
  {
   "cell_type": "markdown",
   "metadata": {},
   "source": [
    "#### Strings"
   ]
  },
  {
   "cell_type": "markdown",
   "metadata": {},
   "source": [
    "__Name:__ Strings <br>\n",
    "__Type:__ str <br>\n",
    "__Description:__ Oredered sequence of characters <br>\n",
    "__Examples:__ \"Hello, world!\", \"12345\", 'name surname'"
   ]
  },
  {
   "cell_type": "markdown",
   "metadata": {},
   "source": [
    "#### Lists"
   ]
  },
  {
   "cell_type": "markdown",
   "metadata": {},
   "source": [
    "__Name:__ Lists <br>\n",
    "__Type:__ list <br>\n",
    "__Description:__ Ordered sequence of objects <br>\n",
    "__Examples:__ \\[75, \"Name\", 12.76\\]"
   ]
  },
  {
   "cell_type": "markdown",
   "metadata": {},
   "source": [
    "#### Dictionaries"
   ]
  },
  {
   "cell_type": "markdown",
   "metadata": {},
   "source": [
    "__Name:__ Dictionaries <br>\n",
    "__Type:__ dict <br>\n",
    "__Description:__ Unordered __KEY__:__VALUE__ pairs <br>\n",
    "__Examples:__ {\"key_01\": \"value_01\", \"name\": \"John\"}"
   ]
  },
  {
   "cell_type": "markdown",
   "metadata": {},
   "source": [
    "#### Tuples"
   ]
  },
  {
   "cell_type": "markdown",
   "metadata": {},
   "source": [
    "__Name:__ Tuples <br>\n",
    "__Type:__ tup <br>\n",
    "__Description:__ Ordered immutable* sequence of objects <br>\n",
    "__Examples:__ (75, \"Name\", 12.76) <br>\n",
    "_* \"immutable\" means that You cannot change object in this type of data structure by index. For example, this operation is possible in lists._"
   ]
  },
  {
   "cell_type": "markdown",
   "metadata": {},
   "source": [
    "#### Sets"
   ]
  },
  {
   "cell_type": "markdown",
   "metadata": {},
   "source": [
    "__Name:__ Sets <br>\n",
    "__Type:__ set <br>\n",
    "__Description:__ Unordered collection of unique objects <br>\n",
    "__Examples:__ {\"a\", \"b\", \"c\"}"
   ]
  },
  {
   "cell_type": "markdown",
   "metadata": {},
   "source": [
    "#### Booleans"
   ]
  },
  {
   "cell_type": "markdown",
   "metadata": {},
   "source": [
    "__Name:__ Booleans <br>\n",
    "__Type:__ bool <br>\n",
    "__Description:__ Logical value indicating __TRUE__ or __FALSE__ <br>\n",
    "__Examples:__ True, False"
   ]
  }
 ],
 "metadata": {
  "kernelspec": {
   "display_name": "Python 3",
   "language": "python",
   "name": "python3"
  },
  "language_info": {
   "codemirror_mode": {
    "name": "ipython",
    "version": 3
   },
   "file_extension": ".py",
   "mimetype": "text/x-python",
   "name": "python",
   "nbconvert_exporter": "python",
   "pygments_lexer": "ipython3",
   "version": "3.7.3"
  }
 },
 "nbformat": 4,
 "nbformat_minor": 2
}
