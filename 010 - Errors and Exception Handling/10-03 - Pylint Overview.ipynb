{
 "cells": [
  {
   "cell_type": "markdown",
   "id": "7c462a92",
   "metadata": {},
   "source": [
    "### Pylint Overview"
   ]
  },
  {
   "cell_type": "markdown",
   "id": "ab229a6e",
   "metadata": {},
   "source": [
    "- As you begin to expand to larger multi-file projects it becomes important to have tests in place\n",
    "- This way as you make changes or update your code, you can run your test files to make sure previous code still runs as expected.\n",
    "- There are several testing tools, we will focus on two:\n",
    "    - __pylint__: This is a library that looks at your code and reports back possible issues.\n",
    "    - __unittest__: This built-in library will allow to test your own programs and check you are getting desired outputs."
   ]
  },
  {
   "cell_type": "code",
   "execution_count": 1,
   "id": "ec14ae26",
   "metadata": {
    "scrolled": false
   },
   "outputs": [
    {
     "name": "stdout",
     "output_type": "stream",
     "text": [
      "************* Module simple1\r\n",
      "simple1.py:14:0: C0304: Final newline missing (missing-final-newline)\r\n",
      "\r\n",
      "\r\n",
      "Report\r\n",
      "======\r\n",
      "6 statements analysed.\r\n",
      "\r\n",
      "Statistics by type\r\n",
      "------------------\r\n",
      "\r\n",
      "+---------+-------+-----------+-----------+------------+---------+\r\n",
      "|type     |number |old number |difference |%documented |%badname |\r\n",
      "+=========+=======+===========+===========+============+=========+\r\n",
      "|module   |1      |1          |=          |100.00      |0.00     |\r\n",
      "+---------+-------+-----------+-----------+------------+---------+\r\n",
      "|class    |0      |0          |=          |0           |0        |\r\n",
      "+---------+-------+-----------+-----------+------------+---------+\r\n",
      "|method   |0      |0          |=          |0           |0        |\r\n",
      "+---------+-------+-----------+-----------+------------+---------+\r\n",
      "|function |1      |1          |=          |100.00      |0.00     |\r\n",
      "+---------+-------+-----------+-----------+------------+---------+\r\n",
      "\r\n",
      "\r\n",
      "\r\n",
      "Raw metrics\r\n",
      "-----------\r\n",
      "\r\n",
      "+----------+-------+------+---------+-----------+\r\n",
      "|type      |number |%     |previous |difference |\r\n",
      "+==========+=======+======+=========+===========+\r\n",
      "|code      |7      |43.75 |7        |=          |\r\n",
      "+----------+-------+------+---------+-----------+\r\n",
      "|docstring |6      |37.50 |6        |=          |\r\n",
      "+----------+-------+------+---------+-----------+\r\n",
      "|comment   |0      |0.00  |0        |=          |\r\n",
      "+----------+-------+------+---------+-----------+\r\n",
      "|empty     |3      |18.75 |3        |=          |\r\n",
      "+----------+-------+------+---------+-----------+\r\n",
      "\r\n",
      "\r\n",
      "\r\n",
      "Duplication\r\n",
      "-----------\r\n",
      "\r\n",
      "+-------------------------+------+---------+-----------+\r\n",
      "|                         |now   |previous |difference |\r\n",
      "+=========================+======+=========+===========+\r\n",
      "|nb duplicated lines      |0     |0        |=          |\r\n",
      "+-------------------------+------+---------+-----------+\r\n",
      "|percent duplicated lines |0.000 |0.000    |=          |\r\n",
      "+-------------------------+------+---------+-----------+\r\n",
      "\r\n",
      "\r\n",
      "\r\n",
      "Messages by category\r\n",
      "--------------------\r\n",
      "\r\n",
      "+-----------+-------+---------+-----------+\r\n",
      "|type       |number |previous |difference |\r\n",
      "+===========+=======+=========+===========+\r\n",
      "|convention |1      |1        |=          |\r\n",
      "+-----------+-------+---------+-----------+\r\n",
      "|refactor   |0      |0        |=          |\r\n",
      "+-----------+-------+---------+-----------+\r\n",
      "|warning    |0      |0        |=          |\r\n",
      "+-----------+-------+---------+-----------+\r\n",
      "|error      |0      |0        |=          |\r\n",
      "+-----------+-------+---------+-----------+\r\n",
      "\r\n",
      "\r\n",
      "\r\n",
      "Messages\r\n",
      "--------\r\n",
      "\r\n",
      "+----------------------+------------+\r\n",
      "|message id            |occurrences |\r\n",
      "+======================+============+\r\n",
      "|missing-final-newline |1           |\r\n",
      "+----------------------+------------+\r\n",
      "\r\n",
      "\r\n",
      "\r\n",
      "\r\n",
      "------------------------------------------------------------------\r\n",
      "Your code has been rated at 8.33/10 (previous run: 8.33/10, +0.00)\r\n",
      "\r\n",
      "\u001b[0m"
     ]
    }
   ],
   "source": [
    "!pylint simple1.py -r y"
   ]
  }
 ],
 "metadata": {
  "kernelspec": {
   "display_name": "Python 3",
   "language": "python",
   "name": "python3"
  },
  "language_info": {
   "codemirror_mode": {
    "name": "ipython",
    "version": 3
   },
   "file_extension": ".py",
   "mimetype": "text/x-python",
   "name": "python",
   "nbconvert_exporter": "python",
   "pygments_lexer": "ipython3",
   "version": "3.8.10"
  }
 },
 "nbformat": 4,
 "nbformat_minor": 5
}
