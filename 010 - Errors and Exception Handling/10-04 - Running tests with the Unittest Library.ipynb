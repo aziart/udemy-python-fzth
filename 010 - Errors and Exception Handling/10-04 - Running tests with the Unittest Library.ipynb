{
 "cells": [
  {
   "cell_type": "code",
   "execution_count": 1,
   "id": "08e0cc82",
   "metadata": {},
   "outputs": [
    {
     "data": {
      "text/plain": [
       "\"\\nimport unittest\\nimport cap\\n\\nclass TestCap(unittest.TestCase):\\n\\n    def test_one_word(self):\\n        text = 'python'\\n        result = cap.cap_text(text)\\n        self.assertEqual(result, 'Python')\\n    \\n    def test_multiple_words(self):\\n        text = 'monty python'\\n        result = cap.cap_text(text)\\n        self.assertEqual(result, 'Monty Python')\\n\\nif __name__ == '__main__':\\n    unittest.main()\\n\\n\""
      ]
     },
     "execution_count": 1,
     "metadata": {},
     "output_type": "execute_result"
    }
   ],
   "source": [
    "# 1st version of cap.py\n",
    "\"\"\"def cap_text(text):\n",
    "    '''\n",
    "    Input a string\n",
    "    Outpu the capitalizied string\n",
    "    '''\n",
    "    return text.capitalize()\"\"\"\n",
    "#test_cap.py\n",
    "\"\"\"\n",
    "import unittest\n",
    "import cap\n",
    "\n",
    "class TestCap(unittest.TestCase):\n",
    "\n",
    "    def test_one_word(self):\n",
    "        text = 'python'\n",
    "        result = cap.cap_text(text)\n",
    "        self.assertEqual(result, 'Python')\n",
    "    \n",
    "    def test_multiple_words(self):\n",
    "        text = 'monty python'\n",
    "        result = cap.cap_text(text)\n",
    "        self.assertEqual(result, 'Monty Python')\n",
    "\n",
    "if __name__ == '__main__':\n",
    "    unittest.main()\n",
    "\n",
    "\"\"\""
   ]
  },
  {
   "cell_type": "code",
   "execution_count": 2,
   "id": "3775bd9f",
   "metadata": {
    "scrolled": true
   },
   "outputs": [
    {
     "name": "stdout",
     "output_type": "stream",
     "text": [
      "F.\n",
      "======================================================================\n",
      "FAIL: test_multiple_words (__main__.TestCap)\n",
      "----------------------------------------------------------------------\n",
      "Traceback (most recent call last):\n",
      "  File \"test_cap.py\", line 14, in test_multiple_words\n",
      "    self.assertEqual(result, 'Monty Python')\n",
      "AssertionError: 'Monty python' != 'Monty Python'\n",
      "- Monty python\n",
      "?       ^\n",
      "+ Monty Python\n",
      "?       ^\n",
      "\n",
      "\n",
      "----------------------------------------------------------------------\n",
      "Ran 2 tests in 0.001s\n",
      "\n",
      "FAILED (failures=1)\n"
     ]
    }
   ],
   "source": [
    "!python test_cap.py"
   ]
  },
  {
   "cell_type": "code",
   "execution_count": 3,
   "id": "adbcf558",
   "metadata": {},
   "outputs": [
    {
     "data": {
      "text/plain": [
       "\"\\nimport unittest\\nimport cap\\n\\nclass TestCap(unittest.TestCase):\\n\\n    def test_one_word(self):\\n        text = 'python'\\n        result = cap.cap_text(text)\\n        self.assertEqual(result, 'Python')\\n    \\n    def test_multiple_words(self):\\n        text = 'monty python'\\n        result = cap.cap_text(text)\\n        self.assertEqual(result, 'Monty Python')\\n\\nif __name__ == '__main__':\\n    unittest.main()\\n\\n\""
      ]
     },
     "execution_count": 3,
     "metadata": {},
     "output_type": "execute_result"
    }
   ],
   "source": [
    "# 1st version of cap.py\n",
    "\"\"\"def cap_text(text):\n",
    "    '''\n",
    "    Input a string\n",
    "    Outpu the capitalizied string\n",
    "    '''\n",
    "    return text.title()\"\"\" # changed capitalize() to title()\n",
    "#test_cap.py\n",
    "\"\"\"\n",
    "import unittest\n",
    "import cap\n",
    "\n",
    "class TestCap(unittest.TestCase):\n",
    "\n",
    "    def test_one_word(self):\n",
    "        text = 'python'\n",
    "        result = cap.cap_text(text)\n",
    "        self.assertEqual(result, 'Python')\n",
    "    \n",
    "    def test_multiple_words(self):\n",
    "        text = 'monty python'\n",
    "        result = cap.cap_text(text)\n",
    "        self.assertEqual(result, 'Monty Python')\n",
    "\n",
    "if __name__ == '__main__':\n",
    "    unittest.main()\n",
    "\n",
    "\"\"\""
   ]
  },
  {
   "cell_type": "code",
   "execution_count": 4,
   "id": "27e15043",
   "metadata": {},
   "outputs": [
    {
     "name": "stdout",
     "output_type": "stream",
     "text": [
      "..\r\n",
      "----------------------------------------------------------------------\r\n",
      "Ran 2 tests in 0.000s\r\n",
      "\r\n",
      "OK\r\n"
     ]
    }
   ],
   "source": [
    "!python test_cap.py"
   ]
  }
 ],
 "metadata": {
  "kernelspec": {
   "display_name": "Python 3",
   "language": "python",
   "name": "python3"
  },
  "language_info": {
   "codemirror_mode": {
    "name": "ipython",
    "version": 3
   },
   "file_extension": ".py",
   "mimetype": "text/x-python",
   "name": "python",
   "nbconvert_exporter": "python",
   "pygments_lexer": "ipython3",
   "version": "3.8.10"
  }
 },
 "nbformat": 4,
 "nbformat_minor": 5
}
