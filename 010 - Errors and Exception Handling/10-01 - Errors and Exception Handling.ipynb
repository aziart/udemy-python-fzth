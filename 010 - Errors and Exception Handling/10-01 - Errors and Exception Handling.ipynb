{
 "cells": [
  {
   "cell_type": "markdown",
   "id": "ff2782a1",
   "metadata": {},
   "source": [
    "### Errors and Exception Handling"
   ]
  },
  {
   "cell_type": "markdown",
   "id": "35c5c1aa",
   "metadata": {},
   "source": [
    "We use three keywords for exception handling\n",
    "- __try__: this is the block of code to be attempted (may lead to an error)\n",
    "- __except__: block of code will execute in case there is an error in __try__ block\n",
    "- __finally__: a final block of code to be executed, regardless of an error"
   ]
  },
  {
   "cell_type": "code",
   "execution_count": 1,
   "id": "e8cbcdc1",
   "metadata": {},
   "outputs": [],
   "source": [
    "def add(n1, n2):\n",
    "    print(n1 + n2)"
   ]
  },
  {
   "cell_type": "code",
   "execution_count": 2,
   "id": "e20e83d9",
   "metadata": {},
   "outputs": [
    {
     "name": "stdout",
     "output_type": "stream",
     "text": [
      "30\n"
     ]
    }
   ],
   "source": [
    "add(10, 20)"
   ]
  },
  {
   "cell_type": "code",
   "execution_count": 3,
   "id": "c888e0d3",
   "metadata": {},
   "outputs": [],
   "source": [
    "number1 = 10"
   ]
  },
  {
   "cell_type": "code",
   "execution_count": 4,
   "id": "4985d050",
   "metadata": {},
   "outputs": [
    {
     "name": "stdout",
     "output_type": "stream",
     "text": [
      "Please provide a number: 10\n"
     ]
    }
   ],
   "source": [
    "number2 = input('Please provide a number: ')"
   ]
  },
  {
   "cell_type": "code",
   "execution_count": 5,
   "id": "d334ec25",
   "metadata": {},
   "outputs": [
    {
     "ename": "TypeError",
     "evalue": "unsupported operand type(s) for +: 'int' and 'str'",
     "output_type": "error",
     "traceback": [
      "\u001b[0;31m---------------------------------------------------------------------------\u001b[0m",
      "\u001b[0;31mTypeError\u001b[0m                                 Traceback (most recent call last)",
      "\u001b[0;32m<ipython-input-5-1c19855feccc>\u001b[0m in \u001b[0;36m<module>\u001b[0;34m\u001b[0m\n\u001b[0;32m----> 1\u001b[0;31m \u001b[0madd\u001b[0m\u001b[0;34m(\u001b[0m\u001b[0mnumber1\u001b[0m\u001b[0;34m,\u001b[0m \u001b[0mnumber2\u001b[0m\u001b[0;34m)\u001b[0m\u001b[0;34m\u001b[0m\u001b[0;34m\u001b[0m\u001b[0m\n\u001b[0m\u001b[1;32m      2\u001b[0m \u001b[0mprint\u001b[0m\u001b[0;34m(\u001b[0m\u001b[0;34m'Something happened'\u001b[0m\u001b[0;34m)\u001b[0m \u001b[0;31m# will not occur because of error\u001b[0m\u001b[0;34m\u001b[0m\u001b[0;34m\u001b[0m\u001b[0m\n",
      "\u001b[0;32m<ipython-input-1-26160d662457>\u001b[0m in \u001b[0;36madd\u001b[0;34m(n1, n2)\u001b[0m\n\u001b[1;32m      1\u001b[0m \u001b[0;32mdef\u001b[0m \u001b[0madd\u001b[0m\u001b[0;34m(\u001b[0m\u001b[0mn1\u001b[0m\u001b[0;34m,\u001b[0m \u001b[0mn2\u001b[0m\u001b[0;34m)\u001b[0m\u001b[0;34m:\u001b[0m\u001b[0;34m\u001b[0m\u001b[0;34m\u001b[0m\u001b[0m\n\u001b[0;32m----> 2\u001b[0;31m     \u001b[0mprint\u001b[0m\u001b[0;34m(\u001b[0m\u001b[0mn1\u001b[0m \u001b[0;34m+\u001b[0m \u001b[0mn2\u001b[0m\u001b[0;34m)\u001b[0m\u001b[0;34m\u001b[0m\u001b[0;34m\u001b[0m\u001b[0m\n\u001b[0m",
      "\u001b[0;31mTypeError\u001b[0m: unsupported operand type(s) for +: 'int' and 'str'"
     ]
    }
   ],
   "source": [
    "add(number1, number2)\n",
    "print('Something happened') # will not occur because of error"
   ]
  },
  {
   "cell_type": "code",
   "execution_count": 6,
   "id": "327e18b3",
   "metadata": {},
   "outputs": [],
   "source": [
    "try:\n",
    "    # want to attempt this code\n",
    "    # may have an error\n",
    "    result = 10 + 10\n",
    "except:\n",
    "    print('Hey it looks like you are not adding correctly!')"
   ]
  },
  {
   "cell_type": "code",
   "execution_count": 7,
   "id": "4c93ae0a",
   "metadata": {},
   "outputs": [
    {
     "data": {
      "text/plain": [
       "20"
      ]
     },
     "execution_count": 7,
     "metadata": {},
     "output_type": "execute_result"
    }
   ],
   "source": [
    "result"
   ]
  },
  {
   "cell_type": "code",
   "execution_count": 8,
   "id": "fa3626c3",
   "metadata": {},
   "outputs": [
    {
     "name": "stdout",
     "output_type": "stream",
     "text": [
      "Hey it looks like you are not adding correctly!\n"
     ]
    }
   ],
   "source": [
    "try:\n",
    "    # want to attempt this code\n",
    "    # may have an error\n",
    "    result = 10 + '10'\n",
    "except:\n",
    "    print('Hey it looks like you are not adding correctly!')"
   ]
  },
  {
   "cell_type": "code",
   "execution_count": 9,
   "id": "3086d1bf",
   "metadata": {},
   "outputs": [
    {
     "name": "stdout",
     "output_type": "stream",
     "text": [
      "Hey it looks like you are not adding correctly!\n"
     ]
    }
   ],
   "source": [
    "try:\n",
    "    # want to attempt this code\n",
    "    # may have an error\n",
    "    result = 10 + '10'\n",
    "except:\n",
    "    print('Hey it looks like you are not adding correctly!')\n",
    "else:\n",
    "    print('Add went well!')\n",
    "    print(result)"
   ]
  },
  {
   "cell_type": "code",
   "execution_count": 10,
   "id": "4029ee86",
   "metadata": {},
   "outputs": [
    {
     "name": "stdout",
     "output_type": "stream",
     "text": [
      "Add went well!\n",
      "20\n"
     ]
    }
   ],
   "source": [
    "try:\n",
    "    # want to attempt this code\n",
    "    # may have an error\n",
    "    result = 10 + 10\n",
    "except:\n",
    "    print('Hey it looks like you are not adding correctly!')\n",
    "else:\n",
    "    print('Add went well!')\n",
    "    print(result)"
   ]
  },
  {
   "cell_type": "code",
   "execution_count": 11,
   "id": "fdbaabb3",
   "metadata": {},
   "outputs": [
    {
     "name": "stdout",
     "output_type": "stream",
     "text": [
      "I always run\n"
     ]
    }
   ],
   "source": [
    "try:\n",
    "    f = open('testfile', 'w')\n",
    "    f.write('Write a test line')\n",
    "except TypeError:\n",
    "    print('There was a type error')\n",
    "except OSError:\n",
    "    print('Hey you have an OS error')\n",
    "finally:\n",
    "    print('I always run')"
   ]
  },
  {
   "cell_type": "code",
   "execution_count": 12,
   "id": "3841e048",
   "metadata": {},
   "outputs": [
    {
     "name": "stdout",
     "output_type": "stream",
     "text": [
      "Hey you have an OS error\n",
      "I always run\n"
     ]
    }
   ],
   "source": [
    "try:\n",
    "    f = open('testfile', 'r') # changed mode to 'r'\n",
    "    f.write('Write a test line')\n",
    "except TypeError:\n",
    "    print('There was a type error')\n",
    "except OSError:\n",
    "    print('Hey you have an OS error')\n",
    "finally:\n",
    "    print('I always run')"
   ]
  },
  {
   "cell_type": "code",
   "execution_count": 13,
   "id": "fcfb7365",
   "metadata": {},
   "outputs": [
    {
     "name": "stdout",
     "output_type": "stream",
     "text": [
      "All other exceptions\n",
      "I always run\n"
     ]
    }
   ],
   "source": [
    "try:\n",
    "    f = open('testfile', 'r') # changed mode to 'r'\n",
    "    f.write('Write a test line')\n",
    "except TypeError:\n",
    "    print('There was a type error')\n",
    "except: # removed OSError\n",
    "    print('All other exceptions')\n",
    "finally:\n",
    "    print('I always run')"
   ]
  },
  {
   "cell_type": "code",
   "execution_count": 14,
   "id": "32413a46",
   "metadata": {},
   "outputs": [],
   "source": [
    "def ask_for_int():\n",
    "    try:\n",
    "        result = int(input('Please provide a number: '))\n",
    "    except:\n",
    "        print('Whoops! That is not a number')\n",
    "    finally:\n",
    "        print('End of try/except/finally')"
   ]
  },
  {
   "cell_type": "code",
   "execution_count": 15,
   "id": "c775a439",
   "metadata": {},
   "outputs": [
    {
     "name": "stdout",
     "output_type": "stream",
     "text": [
      "Please provide a number: q\n",
      "Whoops! That is not a number\n",
      "End of try/except/finally\n"
     ]
    }
   ],
   "source": [
    "ask_for_int()"
   ]
  },
  {
   "cell_type": "code",
   "execution_count": 16,
   "id": "02229010",
   "metadata": {},
   "outputs": [
    {
     "name": "stdout",
     "output_type": "stream",
     "text": [
      "Please provide a number: 123\n",
      "End of try/except/finally\n"
     ]
    }
   ],
   "source": [
    "ask_for_int()"
   ]
  },
  {
   "cell_type": "code",
   "execution_count": 17,
   "id": "23234e3e",
   "metadata": {},
   "outputs": [],
   "source": [
    "def ask_for_int():\n",
    "    \n",
    "    while True:\n",
    "        try:\n",
    "            result = int(input('Please provide a number: '))\n",
    "        except:\n",
    "            print('Whoops! That is not a number')\n",
    "            continue\n",
    "        else:\n",
    "            print('Yes, thank you!')\n",
    "            break\n",
    "        finally:\n",
    "            print('End of try/except/finally')\n",
    "            print('I will always run at the end')"
   ]
  },
  {
   "cell_type": "code",
   "execution_count": 18,
   "id": "6ded9566",
   "metadata": {},
   "outputs": [
    {
     "name": "stdout",
     "output_type": "stream",
     "text": [
      "Please provide a number: q\n",
      "Whoops! That is not a number\n",
      "End of try/except/finally\n",
      "I will always run at the end\n",
      "Please provide a number: a\n",
      "Whoops! That is not a number\n",
      "End of try/except/finally\n",
      "I will always run at the end\n",
      "Please provide a number: 123\n",
      "Yes, thank you!\n",
      "End of try/except/finally\n",
      "I will always run at the end\n"
     ]
    }
   ],
   "source": [
    "ask_for_int()"
   ]
  },
  {
   "cell_type": "code",
   "execution_count": 19,
   "id": "b365d31b",
   "metadata": {},
   "outputs": [],
   "source": [
    "def ask_for_int():\n",
    "    \n",
    "    while True:\n",
    "        try:\n",
    "            result = int(input('Please provide a number: '))\n",
    "        except:\n",
    "            print('Whoops! That is not a number')\n",
    "            continue\n",
    "        else:\n",
    "            print('Yes, thank you!')\n",
    "            break"
   ]
  },
  {
   "cell_type": "code",
   "execution_count": 20,
   "id": "d6c6e401",
   "metadata": {},
   "outputs": [
    {
     "name": "stdout",
     "output_type": "stream",
     "text": [
      "Please provide a number: q\n",
      "Whoops! That is not a number\n",
      "Please provide a number: a\n",
      "Whoops! That is not a number\n",
      "Please provide a number: 123\n",
      "Yes, thank you!\n"
     ]
    }
   ],
   "source": [
    "ask_for_int()"
   ]
  }
 ],
 "metadata": {
  "kernelspec": {
   "display_name": "Python 3",
   "language": "python",
   "name": "python3"
  },
  "language_info": {
   "codemirror_mode": {
    "name": "ipython",
    "version": 3
   },
   "file_extension": ".py",
   "mimetype": "text/x-python",
   "name": "python",
   "nbconvert_exporter": "python",
   "pygments_lexer": "ipython3",
   "version": "3.8.10"
  }
 },
 "nbformat": 4,
 "nbformat_minor": 5
}
