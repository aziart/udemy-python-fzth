{
 "cells": [
  {
   "cell_type": "code",
   "execution_count": 1,
   "source": [
    "from mymodule import myfunc\n",
    "\n",
    "myfunc()"
   ],
   "outputs": [
    {
     "output_type": "stream",
     "name": "stdout",
     "text": [
      "Hey, I am in mymodule.py\n"
     ]
    }
   ],
   "metadata": {}
  },
  {
   "cell_type": "code",
   "execution_count": 2,
   "source": [
    "from MyMainPackage import some_main_script\n",
    "from MyMainPackage.SubPackage import mysubscript\n",
    "\n",
    "some_main_script.report_main()\n",
    "mysubscript.sub_report()"
   ],
   "outputs": [
    {
     "output_type": "stream",
     "name": "stdout",
     "text": [
      "Hey, I am in some_main_script in main package\n",
      "Hey, I am a function inside my subscript\n"
     ]
    }
   ],
   "metadata": {}
  }
 ],
 "metadata": {
  "orig_nbformat": 4,
  "language_info": {
   "name": "python",
   "version": "3.8.10",
   "mimetype": "text/x-python",
   "codemirror_mode": {
    "name": "ipython",
    "version": 3
   },
   "pygments_lexer": "ipython3",
   "nbconvert_exporter": "python",
   "file_extension": ".py"
  },
  "kernelspec": {
   "name": "python3",
   "display_name": "Python 3.8.10 64-bit ('base': conda)"
  },
  "interpreter": {
   "hash": "c536ccd3417933179757d31f5013b0900b6c2910556ae16ca5c043c4382bca09"
  }
 },
 "nbformat": 4,
 "nbformat_minor": 2
}