{
 "cells": [
  {
   "cell_type": "markdown",
   "id": "e8d9da2e",
   "metadata": {},
   "source": [
    "# Displaying Information"
   ]
  },
  {
   "cell_type": "code",
   "execution_count": 1,
   "id": "e9ce2da2",
   "metadata": {},
   "outputs": [
    {
     "name": "stdout",
     "output_type": "stream",
     "text": [
      "[1, 2, 3]\n"
     ]
    }
   ],
   "source": [
    "print([1,2,3])"
   ]
  },
  {
   "cell_type": "code",
   "execution_count": 2,
   "id": "7bdad2c7",
   "metadata": {},
   "outputs": [
    {
     "name": "stdout",
     "output_type": "stream",
     "text": [
      "[1, 2, 3]\n",
      "[4, 5, 6]\n",
      "[7, 8, 9]\n"
     ]
    }
   ],
   "source": [
    "print([1,2,3])\n",
    "print([4,5,6])\n",
    "print([7,8,9])"
   ]
  },
  {
   "cell_type": "code",
   "execution_count": 3,
   "id": "0fac70b8",
   "metadata": {},
   "outputs": [],
   "source": [
    "def display(row1,row2,row3):\n",
    "    print(row1)\n",
    "    print(row2)\n",
    "    print(row3)"
   ]
  },
  {
   "cell_type": "code",
   "execution_count": 4,
   "id": "664ae9ba",
   "metadata": {},
   "outputs": [],
   "source": [
    "row1 = [' ',' ',' ']\n",
    "row2 = [' ',' ',' ']\n",
    "row3 = [' ',' ',' ']"
   ]
  },
  {
   "cell_type": "code",
   "execution_count": 5,
   "id": "18c6847c",
   "metadata": {},
   "outputs": [
    {
     "name": "stdout",
     "output_type": "stream",
     "text": [
      "[' ', ' ', ' ']\n",
      "[' ', ' ', ' ']\n",
      "[' ', ' ', ' ']\n"
     ]
    }
   ],
   "source": [
    "display(row1,row2,row3)"
   ]
  },
  {
   "cell_type": "code",
   "execution_count": 6,
   "id": "28106008",
   "metadata": {},
   "outputs": [],
   "source": [
    "row2[1] = 'X'"
   ]
  },
  {
   "cell_type": "code",
   "execution_count": 7,
   "id": "01053458",
   "metadata": {
    "scrolled": true
   },
   "outputs": [
    {
     "name": "stdout",
     "output_type": "stream",
     "text": [
      "[' ', ' ', ' ']\n",
      "[' ', 'X', ' ']\n",
      "[' ', ' ', ' ']\n"
     ]
    }
   ],
   "source": [
    "display(row1,row2,row3)"
   ]
  },
  {
   "cell_type": "markdown",
   "id": "ed200a9a",
   "metadata": {},
   "source": [
    "# Accepting User Input"
   ]
  },
  {
   "cell_type": "code",
   "execution_count": 8,
   "id": "fc8992f8",
   "metadata": {},
   "outputs": [
    {
     "name": "stdout",
     "output_type": "stream",
     "text": [
      "Please, enter a value: 1\n"
     ]
    },
    {
     "data": {
      "text/plain": [
       "'1'"
      ]
     },
     "execution_count": 8,
     "metadata": {},
     "output_type": "execute_result"
    }
   ],
   "source": [
    "input(\"Please, enter a value: \")"
   ]
  },
  {
   "cell_type": "code",
   "execution_count": 9,
   "id": "5c65c09d",
   "metadata": {},
   "outputs": [
    {
     "name": "stdout",
     "output_type": "stream",
     "text": [
      "Please, enter a value: 1\n"
     ]
    }
   ],
   "source": [
    "result = input(\"Please, enter a value: \")"
   ]
  },
  {
   "cell_type": "code",
   "execution_count": 10,
   "id": "17097894",
   "metadata": {},
   "outputs": [
    {
     "data": {
      "text/plain": [
       "'1'"
      ]
     },
     "execution_count": 10,
     "metadata": {},
     "output_type": "execute_result"
    }
   ],
   "source": [
    "result"
   ]
  },
  {
   "cell_type": "code",
   "execution_count": 11,
   "id": "050c0811",
   "metadata": {},
   "outputs": [
    {
     "data": {
      "text/plain": [
       "str"
      ]
     },
     "execution_count": 11,
     "metadata": {},
     "output_type": "execute_result"
    }
   ],
   "source": [
    "type(result)"
   ]
  },
  {
   "cell_type": "code",
   "execution_count": 12,
   "id": "7a7ddcdc",
   "metadata": {},
   "outputs": [
    {
     "name": "stdout",
     "output_type": "stream",
     "text": [
      "Enter value: 1\n"
     ]
    }
   ],
   "source": [
    "result = input(\"Enter value: \")"
   ]
  },
  {
   "cell_type": "code",
   "execution_count": 13,
   "id": "b607e4b1",
   "metadata": {},
   "outputs": [],
   "source": [
    "result_int = int(result)"
   ]
  },
  {
   "cell_type": "code",
   "execution_count": 14,
   "id": "89f5ac0b",
   "metadata": {},
   "outputs": [
    {
     "data": {
      "text/plain": [
       "int"
      ]
     },
     "execution_count": 14,
     "metadata": {},
     "output_type": "execute_result"
    }
   ],
   "source": [
    "type(result_int)"
   ]
  },
  {
   "cell_type": "code",
   "execution_count": 15,
   "id": "69346349",
   "metadata": {},
   "outputs": [
    {
     "name": "stdout",
     "output_type": "stream",
     "text": [
      "Choose an index position: 1\n"
     ]
    }
   ],
   "source": [
    "position_index = int(input(\"Choose an index position: \"))"
   ]
  },
  {
   "cell_type": "code",
   "execution_count": 16,
   "id": "da78212c",
   "metadata": {},
   "outputs": [
    {
     "data": {
      "text/plain": [
       "int"
      ]
     },
     "execution_count": 16,
     "metadata": {},
     "output_type": "execute_result"
    }
   ],
   "source": [
    "type(position_index)"
   ]
  },
  {
   "cell_type": "code",
   "execution_count": 17,
   "id": "7ba3d3aa",
   "metadata": {},
   "outputs": [
    {
     "data": {
      "text/plain": [
       "' '"
      ]
     },
     "execution_count": 17,
     "metadata": {},
     "output_type": "execute_result"
    }
   ],
   "source": [
    "row1[position_index]"
   ]
  },
  {
   "cell_type": "markdown",
   "id": "a794b1e5",
   "metadata": {},
   "source": [
    "# Validating User Input"
   ]
  },
  {
   "cell_type": "code",
   "execution_count": 18,
   "id": "d15ba8da",
   "metadata": {},
   "outputs": [],
   "source": [
    "def user_choice():\n",
    "    \n",
    "    choice = input(\"Please, enter a number (0-10): \")\n",
    "    \n",
    "    return int(choice)"
   ]
  },
  {
   "cell_type": "code",
   "execution_count": 19,
   "id": "a0743f6a",
   "metadata": {},
   "outputs": [],
   "source": [
    "def user_choice():\n",
    "    \n",
    "    choice = 'WRONG'\n",
    "    \n",
    "    while not choice.isdigit():\n",
    "    \n",
    "        choice = input(\"Please, enter a number (0-10): \")\n",
    "        \n",
    "        if not choice.isdigit():\n",
    "            print(\"Sorry! That is not a digit\")\n",
    "    \n",
    "    return int(choice)"
   ]
  },
  {
   "cell_type": "code",
   "execution_count": 20,
   "id": "b4892095",
   "metadata": {},
   "outputs": [
    {
     "name": "stdout",
     "output_type": "stream",
     "text": [
      "Please, enter a number (0-10): i\n",
      "Sorry! That is not a digit\n",
      "Please, enter a number (0-10): 11\n"
     ]
    },
    {
     "data": {
      "text/plain": [
       "11"
      ]
     },
     "execution_count": 20,
     "metadata": {},
     "output_type": "execute_result"
    }
   ],
   "source": [
    "user_choice()"
   ]
  },
  {
   "cell_type": "code",
   "execution_count": 21,
   "id": "ccdbec5d",
   "metadata": {},
   "outputs": [],
   "source": [
    "result = 'WRONG VALUE'"
   ]
  },
  {
   "cell_type": "code",
   "execution_count": 22,
   "id": "a1eadce9",
   "metadata": {},
   "outputs": [],
   "source": [
    "acceptable_values = [0,1,2]"
   ]
  },
  {
   "cell_type": "code",
   "execution_count": 23,
   "id": "8c846f85",
   "metadata": {},
   "outputs": [
    {
     "data": {
      "text/plain": [
       "False"
      ]
     },
     "execution_count": 23,
     "metadata": {},
     "output_type": "execute_result"
    }
   ],
   "source": [
    "result in acceptable_values"
   ]
  },
  {
   "cell_type": "code",
   "execution_count": 24,
   "id": "d6b0d5c6",
   "metadata": {},
   "outputs": [
    {
     "data": {
      "text/plain": [
       "True"
      ]
     },
     "execution_count": 24,
     "metadata": {},
     "output_type": "execute_result"
    }
   ],
   "source": [
    "result not in acceptable_values"
   ]
  },
  {
   "cell_type": "code",
   "execution_count": 25,
   "id": "56929b1e",
   "metadata": {},
   "outputs": [],
   "source": [
    "def user_choice():\n",
    "    \n",
    "    # VARIABLES\n",
    "    \n",
    "    # Initial\n",
    "    choice = 'WRONG'\n",
    "    acceptable_values = range(0,10+1)\n",
    "    within_range = False\n",
    "    \n",
    "    # TWO CONDITIONS TO CHECK\n",
    "    \n",
    "    while not choice.isdigit() or within_range == False:\n",
    "    \n",
    "        choice = input(\"Please, enter a number (0-10): \")\n",
    "        \n",
    "        # Digit Check\n",
    "        if not choice.isdigit():\n",
    "            print(\"Sorry! That is not a digit\")\n",
    "        \n",
    "        # Range Check\n",
    "        if choice.isdigit():\n",
    "            if int(choice) in acceptable_values:\n",
    "                within_range = True\n",
    "            else:\n",
    "                print(\"Sorry! You are out of acceptable range (0-10)\")\n",
    "                within_range = False\n",
    "                \n",
    "    return int(choice)"
   ]
  },
  {
   "cell_type": "code",
   "execution_count": 26,
   "id": "e23e83f3",
   "metadata": {},
   "outputs": [
    {
     "name": "stdout",
     "output_type": "stream",
     "text": [
      "Please, enter a number (0-10): i\n",
      "Sorry! That is not a digit\n",
      "Please, enter a number (0-10): 11\n",
      "Sorry! You are out of acceptable range (0-10)\n",
      "Please, enter a number (0-10): 10\n"
     ]
    },
    {
     "data": {
      "text/plain": [
       "10"
      ]
     },
     "execution_count": 26,
     "metadata": {},
     "output_type": "execute_result"
    }
   ],
   "source": [
    "user_choice()"
   ]
  },
  {
   "cell_type": "markdown",
   "id": "0c6e92fd",
   "metadata": {},
   "source": [
    "# Simple User Interaction"
   ]
  },
  {
   "cell_type": "code",
   "execution_count": 27,
   "id": "d3a0d89f",
   "metadata": {},
   "outputs": [],
   "source": [
    "game_list = [0,1,2]"
   ]
  },
  {
   "cell_type": "code",
   "execution_count": 28,
   "id": "cebd96c0",
   "metadata": {},
   "outputs": [],
   "source": [
    "def display_game(game_list):\n",
    "    print(\"Here is the current list: \")\n",
    "    print(game_list)"
   ]
  },
  {
   "cell_type": "code",
   "execution_count": 29,
   "id": "75535015",
   "metadata": {},
   "outputs": [
    {
     "name": "stdout",
     "output_type": "stream",
     "text": [
      "Here is the current list: \n",
      "[0, 1, 2]\n"
     ]
    }
   ],
   "source": [
    "display_game(game_list)"
   ]
  },
  {
   "cell_type": "code",
   "execution_count": 30,
   "id": "7bd3d934",
   "metadata": {},
   "outputs": [],
   "source": [
    "def position_choice():\n",
    "    \n",
    "    choice = 'wrong'\n",
    "    \n",
    "    while choice not in ['0','1','2']:\n",
    "        choice = input(\"Pick a position (0,1,2): \")\n",
    "        \n",
    "        if choice not in ['0', '1', '2']:\n",
    "            print('Sorry, invalid choice! ')\n",
    "            \n",
    "    return int(choice)"
   ]
  },
  {
   "cell_type": "code",
   "execution_count": 31,
   "id": "bcc18e40",
   "metadata": {},
   "outputs": [
    {
     "name": "stdout",
     "output_type": "stream",
     "text": [
      "Pick a position (0,1,2): 1\n"
     ]
    },
    {
     "data": {
      "text/plain": [
       "1"
      ]
     },
     "execution_count": 31,
     "metadata": {},
     "output_type": "execute_result"
    }
   ],
   "source": [
    "position_choice()"
   ]
  },
  {
   "cell_type": "code",
   "execution_count": 32,
   "id": "d804f5f5",
   "metadata": {},
   "outputs": [],
   "source": [
    "def replacement_choice(game_list, position):\n",
    "    \n",
    "    user_placement = input(\"Type a string to place at position: \")\n",
    "    \n",
    "    game_list[position] = user_placement\n",
    "    \n",
    "    return game_list"
   ]
  },
  {
   "cell_type": "code",
   "execution_count": 33,
   "id": "5880b1c7",
   "metadata": {},
   "outputs": [
    {
     "name": "stdout",
     "output_type": "stream",
     "text": [
      "Type a string to place at position: asdf\n"
     ]
    },
    {
     "data": {
      "text/plain": [
       "[0, 'asdf', 2]"
      ]
     },
     "execution_count": 33,
     "metadata": {},
     "output_type": "execute_result"
    }
   ],
   "source": [
    "replacement_choice(game_list, 1)"
   ]
  },
  {
   "cell_type": "code",
   "execution_count": 34,
   "id": "e653bdae",
   "metadata": {},
   "outputs": [],
   "source": [
    "def gameon_choice():\n",
    "    \n",
    "    choice = 'wrong'\n",
    "    \n",
    "    while choice.upper() not in ['Y', 'N']:\n",
    "        choice = input(\"Keep playing? (Y/N) \")\n",
    "        \n",
    "        if choice.upper() not in ['Y', 'N']:\n",
    "            print('Sorry, invalid choice! ')\n",
    "            \n",
    "    if choice.upper() == 'Y':\n",
    "        return True\n",
    "    else:\n",
    "        False"
   ]
  },
  {
   "cell_type": "code",
   "execution_count": 35,
   "id": "0f03aa22",
   "metadata": {},
   "outputs": [
    {
     "name": "stdout",
     "output_type": "stream",
     "text": [
      "Keep playing? (Y/N) y\n"
     ]
    },
    {
     "data": {
      "text/plain": [
       "True"
      ]
     },
     "execution_count": 35,
     "metadata": {},
     "output_type": "execute_result"
    }
   ],
   "source": [
    "gameon_choice()"
   ]
  },
  {
   "cell_type": "code",
   "execution_count": 36,
   "id": "1cdd1a5b",
   "metadata": {},
   "outputs": [
    {
     "name": "stdout",
     "output_type": "stream",
     "text": [
      "Here is the current list: \n",
      "[0, 1, 2]\n",
      "Pick a position (0,1,2): 2\n",
      "Type a string to place at position: test\n",
      "Here is the current list: \n",
      "[0, 1, 'test']\n",
      "Keep playing? (Y/N) y\n",
      "Here is the current list: \n",
      "[0, 1, 'test']\n",
      "Pick a position (0,1,2): 1\n",
      "Type a string to place at position: 1\n",
      "Here is the current list: \n",
      "[0, '1', 'test']\n",
      "Keep playing? (Y/N) n\n"
     ]
    }
   ],
   "source": [
    "game_on = True\n",
    "game_list = [0,1,2]\n",
    "\n",
    "while game_on:\n",
    "    \n",
    "    display_game(game_list)\n",
    "    \n",
    "    position = position_choice()\n",
    "    \n",
    "    game_list = replacement_choice(game_list, position)\n",
    "    \n",
    "    display_game(game_list)\n",
    "    \n",
    "    game_on = gameon_choice()"
   ]
  }
 ],
 "metadata": {
  "kernelspec": {
   "display_name": "Python 3",
   "language": "python",
   "name": "python3"
  },
  "language_info": {
   "codemirror_mode": {
    "name": "ipython",
    "version": 3
   },
   "file_extension": ".py",
   "mimetype": "text/x-python",
   "name": "python",
   "nbconvert_exporter": "python",
   "pygments_lexer": "ipython3",
   "version": "3.8.10"
  }
 },
 "nbformat": 4,
 "nbformat_minor": 5
}
