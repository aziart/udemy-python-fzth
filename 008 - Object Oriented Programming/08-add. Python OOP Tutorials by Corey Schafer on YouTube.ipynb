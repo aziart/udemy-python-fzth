{
 "cells": [
  {
   "cell_type": "markdown",
   "id": "ccc2a2f4",
   "metadata": {},
   "source": [
    "## Agenda\n",
    "\n",
    "In order to consolidate studied material, I've decided to repeat the topic by watching YouTube series on OOP's by __Corey Schafer__.\n",
    "\n",
    "__Full playlist name:__ Python OOP Tutorials - Working with Classes\n",
    "\n",
    "__Link to the playlist:__\n",
    "https://www.youtube.com/playlist?list=PL-osiE80TeTsqhIuOqKhwlXsIBIdSeYtc\n",
    "\n",
    "__Author's annotation:__ In this series, we will be learning how to create classes in Python, and also the best practices for working with these classes. We will go over class/instance variables, inheritance, getters/setters, and much more. "
   ]
  },
  {
   "cell_type": "markdown",
   "id": "44585eef",
   "metadata": {},
   "source": [
    "### Python OOP Tutorial 1: Classes and Instances"
   ]
  },
  {
   "cell_type": "code",
   "execution_count": 1,
   "id": "8ad012b0",
   "metadata": {},
   "outputs": [],
   "source": [
    "class Employee():\n",
    "    pass"
   ]
  },
  {
   "cell_type": "code",
   "execution_count": 2,
   "id": "3de94053",
   "metadata": {},
   "outputs": [],
   "source": [
    "emp_1 = Employee()\n",
    "emp_2 = Employee()"
   ]
  },
  {
   "cell_type": "code",
   "execution_count": 3,
   "id": "2cdf42fb",
   "metadata": {},
   "outputs": [
    {
     "name": "stdout",
     "output_type": "stream",
     "text": [
      "<__main__.Employee object at 0x7f83c88a4160>\n",
      "<__main__.Employee object at 0x7f83c88a4400>\n"
     ]
    }
   ],
   "source": [
    "print(emp_1)\n",
    "print(emp_2)"
   ]
  },
  {
   "cell_type": "code",
   "execution_count": 4,
   "id": "4bc45094",
   "metadata": {},
   "outputs": [],
   "source": [
    "emp_1.first = 'Corey'\n",
    "emp_1.last = 'Schafer'\n",
    "emp_1.email = 'Corey.Schafer@company.com'\n",
    "emp_1.pay = 50000"
   ]
  },
  {
   "cell_type": "code",
   "execution_count": 5,
   "id": "56779760",
   "metadata": {},
   "outputs": [],
   "source": [
    "emp_2.first = 'Test'\n",
    "emp_2.last = 'User'\n",
    "emp_2.email = 'Test.User@company.com'\n",
    "emp_2.pay = 60000"
   ]
  },
  {
   "cell_type": "code",
   "execution_count": 6,
   "id": "3a766249",
   "metadata": {},
   "outputs": [
    {
     "name": "stdout",
     "output_type": "stream",
     "text": [
      "Corey's salary: 50000\n",
      "Test's salary: 60000\n"
     ]
    }
   ],
   "source": [
    "print(\"{}'s salary: {}\".format(emp_1.first, emp_1.pay))\n",
    "print(\"{}'s salary: {}\".format(emp_2.first, emp_2.pay))"
   ]
  },
  {
   "cell_type": "markdown",
   "id": "b18ab13c",
   "metadata": {},
   "source": [
    "Instead of writing every attribute's argument explicitly, this can be done by providing class by its instances in \\_\\_init\\_\\_ special function"
   ]
  },
  {
   "cell_type": "code",
   "execution_count": 7,
   "id": "47192191",
   "metadata": {},
   "outputs": [],
   "source": [
    "class Employee():\n",
    "    \n",
    "    def __init__(self, first, last, pay):\n",
    "        self.first = first\n",
    "        self.last = last\n",
    "        self.pay = pay\n",
    "        self.email = first + '.' + last + '@company.com'"
   ]
  },
  {
   "cell_type": "code",
   "execution_count": 8,
   "id": "42ccde12",
   "metadata": {},
   "outputs": [],
   "source": [
    "emp_1 = Employee('Corey', 'Schafer', 50000)\n",
    "emp_2 = Employee('Test', 'User', 60000)"
   ]
  },
  {
   "cell_type": "code",
   "execution_count": 9,
   "id": "95dd4da3",
   "metadata": {},
   "outputs": [
    {
     "name": "stdout",
     "output_type": "stream",
     "text": [
      "Corey's salary: 50000\n",
      "Test's salary: 60000\n"
     ]
    }
   ],
   "source": [
    "print(\"{}'s salary: {}\".format(emp_1.first, emp_1.pay))\n",
    "print(\"{}'s salary: {}\".format(emp_2.first, emp_2.pay))"
   ]
  },
  {
   "cell_type": "code",
   "execution_count": 10,
   "id": "c48c26aa",
   "metadata": {},
   "outputs": [
    {
     "name": "stdout",
     "output_type": "stream",
     "text": [
      "Corey.Schafer@company.com\n",
      "Test.User@company.com\n"
     ]
    }
   ],
   "source": [
    "print(emp_1.email)\n",
    "print(emp_2.email)"
   ]
  },
  {
   "cell_type": "markdown",
   "id": "3bf3076a",
   "metadata": {},
   "source": [
    "Getting full name could be done in the following way: (spoiler alert: still good but not the best way)"
   ]
  },
  {
   "cell_type": "code",
   "execution_count": 11,
   "id": "8993c887",
   "metadata": {},
   "outputs": [
    {
     "name": "stdout",
     "output_type": "stream",
     "text": [
      "Corey Schafer\n"
     ]
    }
   ],
   "source": [
    "print('{} {}'.format(emp_1.first, emp_1.last))"
   ]
  },
  {
   "cell_type": "markdown",
   "id": "762abbf1",
   "metadata": {},
   "source": [
    "This can be done in class settings"
   ]
  },
  {
   "cell_type": "code",
   "execution_count": 12,
   "id": "2de030dc",
   "metadata": {},
   "outputs": [],
   "source": [
    "class Employee():\n",
    "    \n",
    "    def __init__(self, first, last, pay):\n",
    "        self.first = first\n",
    "        self.last = last\n",
    "        self.pay = pay\n",
    "        self.email = first + '.' + last + '@company.com'\n",
    "        \n",
    "    def fullname(self):\n",
    "        return '{} {}'.format(self.first, self.last)"
   ]
  },
  {
   "cell_type": "code",
   "execution_count": 13,
   "id": "949cdc5d",
   "metadata": {},
   "outputs": [],
   "source": [
    "emp_1 = Employee('Corey', 'Schafer', 50000)\n",
    "emp_2 = Employee('Test', 'User', 60000)"
   ]
  },
  {
   "cell_type": "code",
   "execution_count": 14,
   "id": "ebe1100e",
   "metadata": {},
   "outputs": [
    {
     "name": "stdout",
     "output_type": "stream",
     "text": [
      "Corey Schafer\n"
     ]
    }
   ],
   "source": [
    "print(emp_1.fullname())"
   ]
  },
  {
   "cell_type": "markdown",
   "id": "010eec25",
   "metadata": {},
   "source": [
    "Again, this option is way more better, because doing that using classes allows us to have general solution (if we want to create many 'fullnames'), instead of creating it for every particular case (instance)."
   ]
  },
  {
   "cell_type": "markdown",
   "id": "39616c7b",
   "metadata": {},
   "source": [
    "Function can be also called using class name itself"
   ]
  },
  {
   "cell_type": "code",
   "execution_count": 15,
   "id": "8972ee69",
   "metadata": {},
   "outputs": [
    {
     "data": {
      "text/plain": [
       "'Corey Schafer'"
      ]
     },
     "execution_count": 15,
     "metadata": {},
     "output_type": "execute_result"
    }
   ],
   "source": [
    "Employee.fullname(emp_1)"
   ]
  },
  {
   "cell_type": "markdown",
   "id": "83358741",
   "metadata": {},
   "source": [
    "### Python OOP Tutorial 2: Classe Variables"
   ]
  },
  {
   "cell_type": "code",
   "execution_count": 16,
   "id": "2ecf0d16",
   "metadata": {},
   "outputs": [],
   "source": [
    "class Employee():\n",
    "    \n",
    "    def __init__(self, first, last, pay):\n",
    "        self.first = first\n",
    "        self.last = last\n",
    "        self.pay = pay\n",
    "        self.email = first + '.' + last + '@company.com'\n",
    "        \n",
    "    def fullname(self):\n",
    "        return '{} {}'.format(self.first, self.last)\n",
    "    \n",
    "    def apply_raise(self):\n",
    "        self.pay = int(self.pay) * 1.04"
   ]
  },
  {
   "cell_type": "code",
   "execution_count": 17,
   "id": "4e25812c",
   "metadata": {},
   "outputs": [],
   "source": [
    "emp_1 = Employee('Corey', 'Schafer', 50000)\n",
    "emp_2 = Employee('Test', 'User', 60000)"
   ]
  },
  {
   "cell_type": "code",
   "execution_count": 18,
   "id": "64c8b74d",
   "metadata": {},
   "outputs": [
    {
     "name": "stdout",
     "output_type": "stream",
     "text": [
      "50000\n"
     ]
    }
   ],
   "source": [
    "print(emp_1.pay)"
   ]
  },
  {
   "cell_type": "code",
   "execution_count": 19,
   "id": "88f2d5ce",
   "metadata": {},
   "outputs": [],
   "source": [
    "emp_1.apply_raise()"
   ]
  },
  {
   "cell_type": "code",
   "execution_count": 20,
   "id": "64cf6785",
   "metadata": {},
   "outputs": [
    {
     "name": "stdout",
     "output_type": "stream",
     "text": [
      "52000.0\n"
     ]
    }
   ],
   "source": [
    "print(emp_1.pay)"
   ]
  },
  {
   "cell_type": "code",
   "execution_count": 21,
   "id": "365e1f53",
   "metadata": {},
   "outputs": [
    {
     "name": "stdout",
     "output_type": "stream",
     "text": [
      "50000\n",
      "1.04\n",
      "1.04\n",
      "1.04\n",
      "1.05\n",
      "1.05\n",
      "1.05\n"
     ]
    }
   ],
   "source": [
    "class Employee():\n",
    "    \n",
    "    raise_amount = 1.04\n",
    "    \n",
    "    def __init__(self, first, last, pay):\n",
    "        self.first = first\n",
    "        self.last = last\n",
    "        self.pay = pay\n",
    "        self.email = first + '.' + last + '@company.com'\n",
    "        \n",
    "    def fullname(self):\n",
    "        return '{} {}'.format(self.first, self.last)\n",
    "    \n",
    "    def apply_raise(self):\n",
    "        self.pay = int(self.pay) * self.raise_amount # or Employee.raise_amount: \n",
    "                                                     # depends on which raise amount we want to use\n",
    "        \n",
    "emp_1 = Employee('Corey', 'Schafer', 50000)\n",
    "emp_2 = Employee('Test', 'User', 60000)\n",
    "\n",
    "print(emp_1.pay)\n",
    "\n",
    "print(Employee.raise_amount)\n",
    "print(emp_1.raise_amount)\n",
    "print(emp_2.raise_amount)\n",
    "\n",
    "Employee.raise_amount = 1.05\n",
    "print(Employee.raise_amount)\n",
    "print(emp_1.raise_amount)\n",
    "print(emp_2.raise_amount)"
   ]
  },
  {
   "cell_type": "code",
   "execution_count": 22,
   "id": "3a421833",
   "metadata": {},
   "outputs": [
    {
     "name": "stdout",
     "output_type": "stream",
     "text": [
      "{'first': 'Corey', 'last': 'Schafer', 'pay': 50000, 'email': 'Corey.Schafer@company.com'}\n"
     ]
    }
   ],
   "source": [
    "print(emp_1.__dict__)"
   ]
  },
  {
   "cell_type": "code",
   "execution_count": 23,
   "id": "9525edf2",
   "metadata": {},
   "outputs": [
    {
     "name": "stdout",
     "output_type": "stream",
     "text": [
      "{'__module__': '__main__', 'raise_amount': 1.05, '__init__': <function Employee.__init__ at 0x7f83c88e9040>, 'fullname': <function Employee.fullname at 0x7f83c88e90d0>, 'apply_raise': <function Employee.apply_raise at 0x7f83c88e9160>, '__dict__': <attribute '__dict__' of 'Employee' objects>, '__weakref__': <attribute '__weakref__' of 'Employee' objects>, '__doc__': None}\n"
     ]
    }
   ],
   "source": [
    "print(Employee.__dict__)"
   ]
  },
  {
   "cell_type": "code",
   "execution_count": 24,
   "id": "4440af57",
   "metadata": {},
   "outputs": [
    {
     "name": "stdout",
     "output_type": "stream",
     "text": [
      "50000\n",
      "1.04\n",
      "1.04\n",
      "1.04\n",
      "1.04\n",
      "1.05\n",
      "1.04\n"
     ]
    }
   ],
   "source": [
    "class Employee():\n",
    "    \n",
    "    raise_amount = 1.04\n",
    "    \n",
    "    def __init__(self, first, last, pay):\n",
    "        self.first = first\n",
    "        self.last = last\n",
    "        self.pay = pay\n",
    "        self.email = first + '.' + last + '@company.com'\n",
    "        \n",
    "    def fullname(self):\n",
    "        return '{} {}'.format(self.first, self.last)\n",
    "    \n",
    "    def apply_raise(self):\n",
    "        self.pay = int(self.pay) * self.raise_amount # or Employee.raise_amount: \n",
    "                                                     # depends on which raise amount we want to use\n",
    "        \n",
    "emp_1 = Employee('Corey', 'Schafer', 50000)\n",
    "emp_2 = Employee('Test', 'User', 60000)\n",
    "\n",
    "print(emp_1.pay)\n",
    "\n",
    "print(Employee.raise_amount)\n",
    "print(emp_1.raise_amount)\n",
    "print(emp_2.raise_amount)\n",
    "\n",
    "# CHANGED EMPLOYEE TO EMP_1\n",
    "emp_1.raise_amount = 1.05\n",
    "print(Employee.raise_amount)\n",
    "print(emp_1.raise_amount)\n",
    "print(emp_2.raise_amount)"
   ]
  },
  {
   "cell_type": "code",
   "execution_count": 25,
   "id": "6c059471",
   "metadata": {},
   "outputs": [
    {
     "name": "stdout",
     "output_type": "stream",
     "text": [
      "{'first': 'Corey', 'last': 'Schafer', 'pay': 50000, 'email': 'Corey.Schafer@company.com', 'raise_amount': 1.05}\n"
     ]
    }
   ],
   "source": [
    "print(emp_1.__dict__)"
   ]
  },
  {
   "cell_type": "markdown",
   "id": "bcaa5aa8",
   "metadata": {},
   "source": [
    "Suppose we want to know number of employees after creating them. This can be done by adding __class variable__ and adding counter into __\\_\\_init\\_\\___ function"
   ]
  },
  {
   "cell_type": "code",
   "execution_count": 26,
   "id": "e66fcff3",
   "metadata": {},
   "outputs": [
    {
     "name": "stdout",
     "output_type": "stream",
     "text": [
      "0\n",
      "2\n"
     ]
    }
   ],
   "source": [
    "class Employee():\n",
    "    # ADDED CLASS VARIABLE 'num_of_emps'\n",
    "    num_of_emps = 0\n",
    "    raise_amount = 1.04\n",
    "    \n",
    "    def __init__(self, first, last, pay):\n",
    "        self.first = first\n",
    "        self.last = last\n",
    "        self.pay = pay\n",
    "        self.email = first + '.' + last + '@company.com'\n",
    "        \n",
    "        # EVERYTIME NEW EMPLOYEE CREATED __init__ FUNCTION WILL BE CALLED\n",
    "        # MEANS THAT IT WILL INCREMENTED OUR COUNTER BY 1\n",
    "        # IT IS VERY IMPORTANT TO USE Employee instead of self here\n",
    "        Employee.num_of_emps += 1\n",
    "        \n",
    "    def fullname(self):\n",
    "        return '{} {}'.format(self.first, self.last)\n",
    "    \n",
    "    def apply_raise(self):\n",
    "        self.pay = int(self.pay) * self.raise_amount # or Employee.raise_amount: \n",
    "                                                     # depends on which raise amount we want to use\n",
    "\n",
    "print(Employee.num_of_emps)\n",
    "            \n",
    "emp_1 = Employee('Corey', 'Schafer', 50000)\n",
    "emp_2 = Employee('Test', 'User', 60000)\n",
    "\n",
    "print(Employee.num_of_emps)"
   ]
  },
  {
   "cell_type": "code",
   "execution_count": null,
   "id": "c5381a82",
   "metadata": {},
   "outputs": [],
   "source": []
  }
 ],
 "metadata": {
  "kernelspec": {
   "display_name": "Python 3",
   "language": "python",
   "name": "python3"
  },
  "language_info": {
   "codemirror_mode": {
    "name": "ipython",
    "version": 3
   },
   "file_extension": ".py",
   "mimetype": "text/x-python",
   "name": "python",
   "nbconvert_exporter": "python",
   "pygments_lexer": "ipython3",
   "version": "3.8.10"
  }
 },
 "nbformat": 4,
 "nbformat_minor": 5
}
