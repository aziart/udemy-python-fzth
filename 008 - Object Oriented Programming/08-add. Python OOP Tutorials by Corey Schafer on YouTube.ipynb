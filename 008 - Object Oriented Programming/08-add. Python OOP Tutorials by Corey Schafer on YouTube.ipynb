{
 "cells": [
  {
   "cell_type": "markdown",
   "id": "ccc2a2f4",
   "metadata": {},
   "source": [
    "## Agenda\n",
    "\n",
    "In order to consolidate studied material, I've decided to repeat the topic by watching YouTube series on OOP's by __Corey Schafer__.\n",
    "\n",
    "__Full playlist name:__ Python OOP Tutorials - Working with Classes\n",
    "\n",
    "__Link to the playlist:__\n",
    "https://www.youtube.com/playlist?list=PL-osiE80TeTsqhIuOqKhwlXsIBIdSeYtc\n",
    "\n",
    "__Author's annotation:__ In this series, we will be learning how to create classes in Python, and also the best practices for working with these classes. We will go over class/instance variables, inheritance, getters/setters, and much more. "
   ]
  },
  {
   "cell_type": "markdown",
   "id": "44585eef",
   "metadata": {},
   "source": [
    "### Python OOP Tutorial 1: Classes and Instances"
   ]
  },
  {
   "cell_type": "code",
   "execution_count": 1,
   "id": "8ad012b0",
   "metadata": {},
   "outputs": [],
   "source": [
    "class Employee():\n",
    "    pass"
   ]
  },
  {
   "cell_type": "code",
   "execution_count": 2,
   "id": "3de94053",
   "metadata": {},
   "outputs": [],
   "source": [
    "emp_1 = Employee()\n",
    "emp_2 = Employee()"
   ]
  },
  {
   "cell_type": "code",
   "execution_count": 3,
   "id": "2cdf42fb",
   "metadata": {},
   "outputs": [
    {
     "name": "stdout",
     "output_type": "stream",
     "text": [
      "<__main__.Employee object at 0x7fe12cfa41c0>\n",
      "<__main__.Employee object at 0x7fe12cfa44f0>\n"
     ]
    }
   ],
   "source": [
    "print(emp_1)\n",
    "print(emp_2)"
   ]
  },
  {
   "cell_type": "code",
   "execution_count": 4,
   "id": "4bc45094",
   "metadata": {},
   "outputs": [],
   "source": [
    "emp_1.first = 'Corey'\n",
    "emp_1.last = 'Schafer'\n",
    "emp_1.email = 'Corey.Schafer@company.com'\n",
    "emp_1.pay = 50000"
   ]
  },
  {
   "cell_type": "code",
   "execution_count": 5,
   "id": "56779760",
   "metadata": {},
   "outputs": [],
   "source": [
    "emp_2.first = 'Test'\n",
    "emp_2.last = 'User'\n",
    "emp_2.email = 'Test.User@company.com'\n",
    "emp_2.pay = 60000"
   ]
  },
  {
   "cell_type": "code",
   "execution_count": 6,
   "id": "3a766249",
   "metadata": {},
   "outputs": [
    {
     "name": "stdout",
     "output_type": "stream",
     "text": [
      "Corey's salary: 50000\n",
      "Test's salary: 60000\n"
     ]
    }
   ],
   "source": [
    "print(\"{}'s salary: {}\".format(emp_1.first, emp_1.pay))\n",
    "print(\"{}'s salary: {}\".format(emp_2.first, emp_2.pay))"
   ]
  },
  {
   "cell_type": "markdown",
   "id": "b18ab13c",
   "metadata": {},
   "source": [
    "Instead of writing every attribute's argument explicitly, this can be done by providing class by its instances in \\_\\_init\\_\\_ special function"
   ]
  },
  {
   "cell_type": "code",
   "execution_count": 7,
   "id": "47192191",
   "metadata": {},
   "outputs": [],
   "source": [
    "class Employee():\n",
    "    \n",
    "    def __init__(self, first, last, pay):\n",
    "        self.first = first\n",
    "        self.last = last\n",
    "        self.pay = pay\n",
    "        self.email = first + '.' + last + '@company.com'"
   ]
  },
  {
   "cell_type": "code",
   "execution_count": 8,
   "id": "42ccde12",
   "metadata": {},
   "outputs": [],
   "source": [
    "emp_1 = Employee('Corey', 'Schafer', 50000)\n",
    "emp_2 = Employee('Test', 'User', 60000)"
   ]
  },
  {
   "cell_type": "code",
   "execution_count": 9,
   "id": "95dd4da3",
   "metadata": {},
   "outputs": [
    {
     "name": "stdout",
     "output_type": "stream",
     "text": [
      "Corey's salary: 50000\n",
      "Test's salary: 60000\n"
     ]
    }
   ],
   "source": [
    "print(\"{}'s salary: {}\".format(emp_1.first, emp_1.pay))\n",
    "print(\"{}'s salary: {}\".format(emp_2.first, emp_2.pay))"
   ]
  },
  {
   "cell_type": "code",
   "execution_count": 10,
   "id": "c48c26aa",
   "metadata": {},
   "outputs": [
    {
     "name": "stdout",
     "output_type": "stream",
     "text": [
      "Corey.Schafer@company.com\n",
      "Test.User@company.com\n"
     ]
    }
   ],
   "source": [
    "print(emp_1.email)\n",
    "print(emp_2.email)"
   ]
  },
  {
   "cell_type": "markdown",
   "id": "3bf3076a",
   "metadata": {},
   "source": [
    "Getting full name could be done in the following way: (spoiler alert: still good but not the best way)"
   ]
  },
  {
   "cell_type": "code",
   "execution_count": 11,
   "id": "8993c887",
   "metadata": {},
   "outputs": [
    {
     "name": "stdout",
     "output_type": "stream",
     "text": [
      "Corey Schafer\n"
     ]
    }
   ],
   "source": [
    "print('{} {}'.format(emp_1.first, emp_1.last))"
   ]
  },
  {
   "cell_type": "markdown",
   "id": "762abbf1",
   "metadata": {},
   "source": [
    "This can be done in class settings"
   ]
  },
  {
   "cell_type": "code",
   "execution_count": 12,
   "id": "2de030dc",
   "metadata": {},
   "outputs": [],
   "source": [
    "class Employee():\n",
    "    \n",
    "    def __init__(self, first, last, pay):\n",
    "        self.first = first\n",
    "        self.last = last\n",
    "        self.pay = pay\n",
    "        self.email = first + '.' + last + '@company.com'\n",
    "        \n",
    "    def fullname(self):\n",
    "        return '{} {}'.format(self.first, self.last)"
   ]
  },
  {
   "cell_type": "code",
   "execution_count": 13,
   "id": "949cdc5d",
   "metadata": {},
   "outputs": [],
   "source": [
    "emp_1 = Employee('Corey', 'Schafer', 50000)\n",
    "emp_2 = Employee('Test', 'User', 60000)"
   ]
  },
  {
   "cell_type": "code",
   "execution_count": 14,
   "id": "ebe1100e",
   "metadata": {},
   "outputs": [
    {
     "name": "stdout",
     "output_type": "stream",
     "text": [
      "Corey Schafer\n"
     ]
    }
   ],
   "source": [
    "print(emp_1.fullname())"
   ]
  },
  {
   "cell_type": "markdown",
   "id": "010eec25",
   "metadata": {},
   "source": [
    "Again, this option is way more better, because doing that using classes allows us to have general solution (if we want to create many 'fullnames'), instead of creating it for every particular case"
   ]
  },
  {
   "cell_type": "markdown",
   "id": "39616c7b",
   "metadata": {},
   "source": [
    "Function can be also called using class name itself"
   ]
  },
  {
   "cell_type": "code",
   "execution_count": 15,
   "id": "8972ee69",
   "metadata": {},
   "outputs": [
    {
     "data": {
      "text/plain": [
       "'Corey Schafer'"
      ]
     },
     "execution_count": 15,
     "metadata": {},
     "output_type": "execute_result"
    }
   ],
   "source": [
    "Employee.fullname(emp_1)"
   ]
  }
 ],
 "metadata": {
  "kernelspec": {
   "display_name": "Python 3",
   "language": "python",
   "name": "python3"
  },
  "language_info": {
   "codemirror_mode": {
    "name": "ipython",
    "version": 3
   },
   "file_extension": ".py",
   "mimetype": "text/x-python",
   "name": "python",
   "nbconvert_exporter": "python",
   "pygments_lexer": "ipython3",
   "version": "3.8.10"
  }
 },
 "nbformat": 4,
 "nbformat_minor": 5
}
