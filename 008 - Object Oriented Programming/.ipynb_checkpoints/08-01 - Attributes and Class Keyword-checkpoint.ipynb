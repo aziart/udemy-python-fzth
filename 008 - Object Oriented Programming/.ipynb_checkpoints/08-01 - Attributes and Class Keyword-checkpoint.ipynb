{
 "cells": [
  {
   "cell_type": "markdown",
   "id": "aaafff38",
   "metadata": {},
   "source": [
    "### Object Oriented Programming\n",
    "- Object Oriented Programming (OOP) allows programmers to create their own objects that have methods and attributes\n",
    "- Recall that after defining a string, list, dictionary, or other objects, you were able to call methods off of them with the '.method_name()' syntax. These methods act as functions that use information about the object, as well as the object itself to return results or change the current object\n",
    "- For example, this includes appending to a list or counting the occurences of an element in a tuple."
   ]
  },
  {
   "cell_type": "code",
   "execution_count": 1,
   "id": "0448cf72",
   "metadata": {},
   "outputs": [],
   "source": [
    "mylist = [1,2,3]"
   ]
  },
  {
   "cell_type": "code",
   "execution_count": 2,
   "id": "4c61b071",
   "metadata": {},
   "outputs": [
    {
     "data": {
      "text/plain": [
       "list"
      ]
     },
     "execution_count": 2,
     "metadata": {},
     "output_type": "execute_result"
    }
   ],
   "source": [
    "type(mylist)"
   ]
  },
  {
   "cell_type": "code",
   "execution_count": 3,
   "id": "1ce62cad",
   "metadata": {},
   "outputs": [],
   "source": [
    "myset = set()"
   ]
  },
  {
   "cell_type": "code",
   "execution_count": 4,
   "id": "3a9c37d0",
   "metadata": {},
   "outputs": [
    {
     "data": {
      "text/plain": [
       "set"
      ]
     },
     "execution_count": 4,
     "metadata": {},
     "output_type": "execute_result"
    }
   ],
   "source": [
    "type(myset)"
   ]
  },
  {
   "cell_type": "code",
   "execution_count": 5,
   "id": "1d36d1a7",
   "metadata": {},
   "outputs": [],
   "source": [
    "class Sample():\n",
    "    pass"
   ]
  },
  {
   "cell_type": "code",
   "execution_count": 6,
   "id": "c905c11b",
   "metadata": {},
   "outputs": [],
   "source": [
    "my_sample = Sample()"
   ]
  },
  {
   "cell_type": "code",
   "execution_count": 7,
   "id": "f0aaff3e",
   "metadata": {},
   "outputs": [
    {
     "data": {
      "text/plain": [
       "__main__.Sample"
      ]
     },
     "execution_count": 7,
     "metadata": {},
     "output_type": "execute_result"
    }
   ],
   "source": [
    "type(my_sample)"
   ]
  },
  {
   "cell_type": "code",
   "execution_count": 8,
   "id": "74623a11",
   "metadata": {},
   "outputs": [],
   "source": [
    "class Dog():\n",
    "    \n",
    "    def __init__(self, breed):\n",
    "        \n",
    "        self.breed = breed"
   ]
  },
  {
   "cell_type": "code",
   "execution_count": 9,
   "id": "8712f854",
   "metadata": {},
   "outputs": [
    {
     "ename": "TypeError",
     "evalue": "__init__() missing 1 required positional argument: 'breed'",
     "output_type": "error",
     "traceback": [
      "\u001b[0;31m---------------------------------------------------------------------------\u001b[0m",
      "\u001b[0;31mTypeError\u001b[0m                                 Traceback (most recent call last)",
      "\u001b[0;32m<ipython-input-9-b867e62b00ec>\u001b[0m in \u001b[0;36m<module>\u001b[0;34m\u001b[0m\n\u001b[0;32m----> 1\u001b[0;31m \u001b[0mmy_dog\u001b[0m \u001b[0;34m=\u001b[0m \u001b[0mDog\u001b[0m\u001b[0;34m(\u001b[0m\u001b[0;34m)\u001b[0m\u001b[0;34m\u001b[0m\u001b[0;34m\u001b[0m\u001b[0m\n\u001b[0m",
      "\u001b[0;31mTypeError\u001b[0m: __init__() missing 1 required positional argument: 'breed'"
     ]
    }
   ],
   "source": [
    "my_dog = Dog()"
   ]
  },
  {
   "cell_type": "code",
   "execution_count": 10,
   "id": "09da65b1",
   "metadata": {},
   "outputs": [],
   "source": [
    "my_dog = Dog(breed = 'Lab')"
   ]
  },
  {
   "cell_type": "code",
   "execution_count": 11,
   "id": "31422c0f",
   "metadata": {},
   "outputs": [
    {
     "data": {
      "text/plain": [
       "__main__.Dog"
      ]
     },
     "execution_count": 11,
     "metadata": {},
     "output_type": "execute_result"
    }
   ],
   "source": [
    "type(my_dog)"
   ]
  },
  {
   "cell_type": "code",
   "execution_count": 12,
   "id": "46b99390",
   "metadata": {},
   "outputs": [
    {
     "data": {
      "text/plain": [
       "'Lab'"
      ]
     },
     "execution_count": 12,
     "metadata": {},
     "output_type": "execute_result"
    }
   ],
   "source": [
    "my_dog.breed"
   ]
  },
  {
   "cell_type": "code",
   "execution_count": 13,
   "id": "9e6e3461",
   "metadata": {},
   "outputs": [],
   "source": [
    "class Dog():\n",
    "    \n",
    "    def __init__(self, mybreed):\n",
    "        \n",
    "        # Attributes\n",
    "        # We take in the argument\n",
    "        # Assign it using self.attribute_name\n",
    "        self.breed = mybreed"
   ]
  },
  {
   "cell_type": "code",
   "execution_count": 14,
   "id": "8143838d",
   "metadata": {},
   "outputs": [],
   "source": [
    "my_dog = Dog(mybreed = 'Huskie')"
   ]
  },
  {
   "cell_type": "code",
   "execution_count": 15,
   "id": "dd855dae",
   "metadata": {},
   "outputs": [
    {
     "data": {
      "text/plain": [
       "'Huskie'"
      ]
     },
     "execution_count": 15,
     "metadata": {},
     "output_type": "execute_result"
    }
   ],
   "source": [
    "my_dog.breed"
   ]
  },
  {
   "cell_type": "code",
   "execution_count": 16,
   "id": "21747ad2",
   "metadata": {},
   "outputs": [],
   "source": [
    "class Dog():\n",
    "    \n",
    "    def __init__(self, mybreed):\n",
    "        \n",
    "        # Attributes\n",
    "        # We take in the argument\n",
    "        # Assign it using self.attribute_name\n",
    "        self.my_attribute = mybreed"
   ]
  },
  {
   "cell_type": "code",
   "execution_count": 17,
   "id": "34e41b68",
   "metadata": {},
   "outputs": [],
   "source": [
    "my_dog = Dog(mybreed = 'Huskie')"
   ]
  },
  {
   "cell_type": "code",
   "execution_count": 18,
   "id": "a6cbc78c",
   "metadata": {},
   "outputs": [
    {
     "data": {
      "text/plain": [
       "'Huskie'"
      ]
     },
     "execution_count": 18,
     "metadata": {},
     "output_type": "execute_result"
    }
   ],
   "source": [
    "my_dog.my_attribute"
   ]
  },
  {
   "cell_type": "code",
   "execution_count": 19,
   "id": "d86b80eb",
   "metadata": {},
   "outputs": [],
   "source": [
    "class Dog():\n",
    "    \n",
    "    def __init__(self, breed, name, spots):\n",
    "        \n",
    "        # Attributes\n",
    "        # We take in the argument\n",
    "        # Assign it using self.attribute_name        \n",
    "        self.breed = breed\n",
    "        self.name = name\n",
    "        \n",
    "        # Expect boolean True/False\n",
    "        self.spot = spots"
   ]
  },
  {
   "cell_type": "code",
   "execution_count": 20,
   "id": "5a48ae78",
   "metadata": {},
   "outputs": [],
   "source": [
    "my_dog = Dog(breed = 'Lab', name = 'Sammy', spots = False)"
   ]
  },
  {
   "cell_type": "code",
   "execution_count": 21,
   "id": "55936c9a",
   "metadata": {},
   "outputs": [
    {
     "data": {
      "text/plain": [
       "__main__.Dog"
      ]
     },
     "execution_count": 21,
     "metadata": {},
     "output_type": "execute_result"
    }
   ],
   "source": [
    "type(my_dog)"
   ]
  },
  {
   "cell_type": "code",
   "execution_count": 22,
   "id": "efa0d98a",
   "metadata": {},
   "outputs": [
    {
     "data": {
      "text/plain": [
       "'Lab'"
      ]
     },
     "execution_count": 22,
     "metadata": {},
     "output_type": "execute_result"
    }
   ],
   "source": [
    "my_dog.breed"
   ]
  },
  {
   "cell_type": "code",
   "execution_count": 23,
   "id": "0abb0dfb",
   "metadata": {},
   "outputs": [
    {
     "data": {
      "text/plain": [
       "'Sammy'"
      ]
     },
     "execution_count": 23,
     "metadata": {},
     "output_type": "execute_result"
    }
   ],
   "source": [
    "my_dog.name"
   ]
  },
  {
   "cell_type": "code",
   "execution_count": 24,
   "id": "6c1e9b69",
   "metadata": {},
   "outputs": [
    {
     "data": {
      "text/plain": [
       "False"
      ]
     },
     "execution_count": 24,
     "metadata": {},
     "output_type": "execute_result"
    }
   ],
   "source": [
    "my_dog.spot"
   ]
  }
 ],
 "metadata": {
  "kernelspec": {
   "display_name": "Python 3",
   "language": "python",
   "name": "python3"
  },
  "language_info": {
   "codemirror_mode": {
    "name": "ipython",
    "version": 3
   },
   "file_extension": ".py",
   "mimetype": "text/x-python",
   "name": "python",
   "nbconvert_exporter": "python",
   "pygments_lexer": "ipython3",
   "version": "3.8.10"
  }
 },
 "nbformat": 4,
 "nbformat_minor": 5
}
